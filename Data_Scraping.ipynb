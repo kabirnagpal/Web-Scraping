{
 "cells": [
  {
   "cell_type": "markdown",
   "metadata": {},
   "source": [
    "# Web Scraping\n",
    "Data scraping is one of the most used ways to collect data. In simple terms it means, to get HTML code for a webpage and scan it for data.  "
   ]
  },
  {
   "cell_type": "markdown",
   "metadata": {},
   "source": [
    "![](https://rukminim1.flixcart.com/image/312/312/kfpq5jk0-0/headphone/c/n/6/rockerz-400-rockerz-410-boat-original-imafw45vhyrax3zj.jpeg?q=70)"
   ]
  },
  {
   "cell_type": "markdown",
   "metadata": {},
   "source": [
    "**[Beautiful Soup](https://www.crummy.com/software/BeautifulSoup/)** and **[Selenium](https://www.selenium.dev/)** are most used packages for scanning data.  \n",
    "In this notebook we'll see how to use Beautiful Soup and get reviews of **[boAt Rockerz 400](https://www.flipkart.com/boat-rockerz-400-bluetooth-headset/p/itm14d0416b87d55)**  \n",
    "**Let's Get started**"
   ]
  },
  {
   "cell_type": "markdown",
   "metadata": {},
   "source": [
    "## Importing modules"
   ]
  },
  {
   "cell_type": "markdown",
   "metadata": {},
   "source": [
    "**[Request](https://requests.readthedocs.io/en/master/)** Module is used to get the HTML code for the URL given.\n",
    "\n",
    "**Note**: *Not all webpages can be requested. For example most social media does not allow to scrape data due to privacy issues. These pages require special access of Developer APIs to scrape data.*"
   ]
  },
  {
   "cell_type": "code",
   "execution_count": 1,
   "metadata": {},
   "outputs": [],
   "source": [
    "import requests \n",
    "from bs4 import BeautifulSoup \n",
    "from tqdm import tqdm"
   ]
  },
  {
   "cell_type": "markdown",
   "metadata": {},
   "source": [
    "## Setting variables"
   ]
  },
  {
   "cell_type": "code",
   "execution_count": 2,
   "metadata": {},
   "outputs": [],
   "source": [
    "URL = \"https://www.flipkart.com/boat-rockerz-400-bluetooth-headset/product-reviews/itm14d0416b87d55?pid=ACCEJZXYKSG2T9GS&lid=LSTACCEJZXYKSG2T9GSVY4ZIC&marketplace=FLIPKART&page=1\""
   ]
  },
  {
   "cell_type": "markdown",
   "metadata": {},
   "source": [
    "### Requesting desired Webpage"
   ]
  },
  {
   "cell_type": "code",
   "execution_count": 3,
   "metadata": {
    "scrolled": false
   },
   "outputs": [
    {
     "name": "stdout",
     "output_type": "stream",
     "text": [
      ">\n",
      "   </meta>\n",
      "  </link>\n",
      " </head>\n",
      " <body>\n",
      "  <div id=\"container\">\n",
      "   <div data-reactroot=\"\">\n",
      "    <div class=\"_1kfTjk\">\n",
      "     <div class=\"_1rH5Jn\">\n",
      "      <div class=\"_1TmfNK\">\n",
      "      </div>\n",
      "      <div class=\"_2Xfa2_\">\n",
      "       <div class=\"_3_C9Hx\">\n",
      "        <div class=\"_3qX0zy\">\n",
      "         <a href=\"/\">\n",
      "          <img alt=\"Flipkart\" class=\"_2xm1JU\" src=\"//img1a.flixcart.com/www/linchpin/fk-cp-zion/img/flipkart-plus_8d85f4.png\" title=\"Flipkart\" width=\"75\"/>\n",
      "         </a>\n",
      "         <a class=\"_21ljIi\" href=\"/plus\">\n",
      "          Explore\n",
      "          <!-- -->\n",
      "          <span class=\"_2FVHGh\">\n",
      "           Plus\n",
      "          </span>\n",
      "          <img src=\"//img1a.flixcart.com/www/linchpin/fk-cp-zion/img/plus_aef861.png\" width=\"10\"/>\n",
      "         </a>\n",
      "        </div>\n",
      "       </div>\n",
      "       <div class=\"_1cmsER\">\n",
      "        <form action=\"/search\" class=\"_2M8cLY header-form-search\" method=\"GET\">\n",
      "         <div class=\"col-12-12 _2oO9oE\">\n",
      "          <div class=\"_3OO5Xc\">\n",
      "           <input autocomplete=\"off\" class=\"_3704LK\" name=\"q\" place\n"
     ]
    }
   ],
   "source": [
    "r = requests.get(URL)    \n",
    "soup = BeautifulSoup(r.content, 'html.parser') \n",
    "print(soup.prettify()[6000:7000])"
   ]
  },
  {
   "cell_type": "markdown",
   "metadata": {},
   "source": [
    "If you're know HTML, this might look familiar.  \n",
    "Next we'll see how to get our data."
   ]
  },
  {
   "cell_type": "markdown",
   "metadata": {},
   "source": [
    "# Extracting data"
   ]
  },
  {
   "cell_type": "markdown",
   "metadata": {},
   "source": [
    "A website can be divided into many components and sub components. At times it is a complex grid structure which needs to decoded.  \n",
    "1. You can easily view the structure by `Ctrl + Shift + C`\n",
    "2. Now if you hover on any review, you'll notice that each block has name `col._2wzgFH.K0kLPL`\n",
    "![](Images/div-name.png)  \n",
    "\n",
    "3. Further this is divided into mutiple rows. The first row contains the rating, while the second contains the actual review. \n",
    "![](Images/rating.png)  \n",
    "![](Images/review.png)  \n",
    "\n",
    "We'll follow exact same approach to extract data."
   ]
  },
  {
   "cell_type": "code",
   "execution_count": 4,
   "metadata": {},
   "outputs": [],
   "source": [
    "# Extracting all review blocks\n",
    "## Note col._2wzgFH.K0kLPL means 3 entities namely 'col', ' _2wzgFH' and 'K0kLPL' \n",
    "## This is written in HTML as 'col _2wzgFH K0kLPL'\n",
    "## This can also be seen in Bullet 3\n",
    "\n",
    "row = soup.find_all('div',attrs={'class':'col _2wzgFH K0kLPL'})"
   ]
  },
  {
   "cell_type": "code",
   "execution_count": 5,
   "metadata": {},
   "outputs": [
    {
     "data": {
      "text/plain": [
       "[{'review': \"It was nice produt. I like it's design a lot.  It's easy to carry. And.   Looked stylish.READ MORE\",\n",
       "  'rating': '5'},\n",
       " {'review': 'awesome sound....very pretty to see this nd the sound quality was too good I wish to take this product loved this product 😍😍😍READ MORE',\n",
       "  'rating': '5'},\n",
       " {'review': 'awesome sound quality. pros 7-8 hrs of battery life (including 45 mins approx call time)Awesome sound output. Bass and treble are really very clear without equaliser. With equaliser, sound wary depends on the handset sound quality.Weightless to carry and in head tooMic is good, but in traffic it is not too good (3.25/5)3.5mm Option is really important to mention. Really expecting other leading brands to implement this.ConsVery tight in ears. adjusters are ok .. this ll be very tight...READ MORE',\n",
       "  'rating': '4'},\n",
       " {'review': 'I think it is such a good product not only as per the quality but also the design is quite good . I m using this product from January ... In this pandamic situation it has became the most useful and helpful . Overall the bass and the sound quality is pretty good and another thing that will give you such a sigh of relief that it will provide a wire that will help you in case of lacking charges.READ MORE',\n",
       "  'rating': '5'},\n",
       " {'review': \"Awsome sound powerful bass battery backup is also excellent and i loved bass the most and I'm huge lover of music and the most bass design and build is also very nice,and this was my first time when i bought and headphone or and electronics item and glad to say on the first time only i loved it 😍 😍 😍  it's a very excellent product.         Thanks boat for making such a nice product keep making such and the most Thanks to flipkart team for delivering such a nice product by risking there lif...READ MORE\",\n",
       "  'rating': '5'}]"
      ]
     },
     "execution_count": 5,
     "metadata": {},
     "output_type": "execute_result"
    }
   ],
   "source": [
    "# list to store data\n",
    "dataset = []\n",
    "\n",
    "# iteration over all blocks\n",
    "for i in row: \n",
    "    \n",
    "    # finding all rows within the block\n",
    "    sub_row = i.find_all('div',attrs={'class':'row'})\n",
    "        \n",
    "    # extracting text from 1st and 2nd row\n",
    "    rating = sub_row[0].find('div').text\n",
    "    review = sub_row[1].find('div').text\n",
    "    \n",
    "    # appending to data\n",
    "    dataset.append({'review': review , 'rating' : rating})\n",
    "\n",
    "dataset[:5]"
   ]
  },
  {
   "cell_type": "markdown",
   "metadata": {},
   "source": [
    "## Iterating over multiple Pages"
   ]
  },
  {
   "cell_type": "code",
   "execution_count": 6,
   "metadata": {},
   "outputs": [
    {
     "name": "stderr",
     "output_type": "stream",
     "text": [
      "100%|██████████| 49/49 [02:23<00:00,  2.93s/it]\n"
     ]
    },
    {
     "data": {
      "text/plain": [
       "489"
      ]
     },
     "execution_count": 6,
     "metadata": {},
     "output_type": "execute_result"
    }
   ],
   "source": [
    "dataset = []\n",
    "\n",
    "# iterating over 50 pages of reviews\n",
    "for i in tqdm(range(1,50)):\n",
    "\n",
    "    URL = f\"https://www.flipkart.com/boat-rockerz-400-bluetooth-headset/product-reviews/itm14d0416b87d55?pid=ACCEJZXYKSG2T9GS&lid=LSTACCEJZXYKSG2T9GSVY4ZIC&marketplace=FLIPKART&page={i}\"\n",
    "    r = requests.get(URL)    \n",
    "    soup = BeautifulSoup(r.content, 'html.parser') \n",
    "\n",
    "    cols = soup.find_all('div',attrs={'class':'col _2wzgFH K0kLPL'})\n",
    "\n",
    "    for col in cols:\n",
    "        row = col.find_all('div',attrs={'class':'row'})\n",
    "\n",
    "        rating = row[0].find('div').text\n",
    "        review = row[1].find('div').text\n",
    "\n",
    "        dataset.append({'review': review , 'rating' : rating})\n",
    "len(dataset)"
   ]
  },
  {
   "cell_type": "code",
   "execution_count": 7,
   "metadata": {},
   "outputs": [],
   "source": [
    "import pandas as pd\n",
    "pd.DataFrame(dataset).to_csv('Data/data.csv',index=False)"
   ]
  }
 ],
 "metadata": {
  "kernelspec": {
   "display_name": "Python 3",
   "language": "python",
   "name": "python3"
  },
  "language_info": {
   "codemirror_mode": {
    "name": "ipython",
    "version": 3
   },
   "file_extension": ".py",
   "mimetype": "text/x-python",
   "name": "python",
   "nbconvert_exporter": "python",
   "pygments_lexer": "ipython3",
   "version": "3.8.6"
  }
 },
 "nbformat": 4,
 "nbformat_minor": 4
}
